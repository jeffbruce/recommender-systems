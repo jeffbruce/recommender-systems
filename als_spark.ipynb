{
 "cells": [
  {
   "cell_type": "code",
   "execution_count": 10,
   "metadata": {},
   "outputs": [],
   "source": [
    "from pyspark.sql import SparkSession\n",
    "\n",
    "from pyspark.ml.feature import StandardScaler, VectorAssembler\n",
    "from pyspark.ml.evaluation import RegressionEvaluator\n",
    "from pyspark.ml.recommendation import ALS"
   ]
  },
  {
   "cell_type": "code",
   "execution_count": 55,
   "metadata": {},
   "outputs": [],
   "source": [
    "spark = SparkSession.builder.appName('als_movielens').getOrCreate()\n",
    "# data = spark.read.csv('data/movielens/ml-latest-small/ratings.csv', inferSchema=True, header=True)\n",
    "\n",
    "# # Try on 1m ratings dataset.\n",
    "# data = spark.read.csv('data/movielens/ml-1m/ratings.dat', inferSchema=True, header=False, sep=':')\n",
    "# data = data.drop('_c1', '_c3', '_c5')\n",
    "# data = data.toDF('userId', 'movieId', 'rating', 'timestamp')\n",
    "\n",
    "# Try on 10m ratings dataset! (265 Mb)\n",
    "data = spark.read.csv('data/movielens/ml-10m/ratings.dat', inferSchema=True, header=False, sep=':')\n",
    "data = data.drop('_c1', '_c3', '_c5')\n",
    "data = data.toDF('userId', 'movieId', 'rating', 'timestamp')"
   ]
  },
  {
   "cell_type": "code",
   "execution_count": 56,
   "metadata": {},
   "outputs": [
    {
     "name": "stdout",
     "output_type": "stream",
     "text": [
      "+-------+-----------------+-----------------+------------------+--------------------+\n",
      "|summary|           userId|          movieId|            rating|           timestamp|\n",
      "+-------+-----------------+-----------------+------------------+--------------------+\n",
      "|  count|         10000054|         10000054|          10000054|            10000054|\n",
      "|   mean|35869.85940925919|4120.291476526027| 3.512421932921562|1.0326063546983086E9|\n",
      "| stddev|20585.33735467861|8938.402117920672|1.0604184716263516|1.1596396220252858E8|\n",
      "|    min|                1|                1|               0.5|           789652009|\n",
      "|    max|            71567|            65133|               5.0|          1231131736|\n",
      "+-------+-----------------+-----------------+------------------+--------------------+\n",
      "\n"
     ]
    }
   ],
   "source": [
    "data.describe().show()"
   ]
  },
  {
   "cell_type": "code",
   "execution_count": 57,
   "metadata": {},
   "outputs": [],
   "source": [
    "training, test = data.randomSplit([0.7, 0.3])"
   ]
  },
  {
   "cell_type": "code",
   "execution_count": 58,
   "metadata": {},
   "outputs": [],
   "source": [
    "model = ALS(maxIter=5, regParam=0.01, userCol='userId', itemCol='movieId', ratingCol='rating')\n",
    "model_fit = model.fit(training)"
   ]
  },
  {
   "cell_type": "code",
   "execution_count": 59,
   "metadata": {},
   "outputs": [],
   "source": [
    "predictions = model_fit.transform(test)"
   ]
  },
  {
   "cell_type": "code",
   "execution_count": 60,
   "metadata": {},
   "outputs": [
    {
     "name": "stdout",
     "output_type": "stream",
     "text": [
      "+------+-------+------+----------+----------+\n",
      "|userId|movieId|rating| timestamp|prediction|\n",
      "+------+-------+------+----------+----------+\n",
      "| 50581|    148|   2.0| 838308516| 2.7593236|\n",
      "| 38139|    148|   2.0| 965940170|  2.451095|\n",
      "| 24254|    148|   3.0|1049216998| 2.7592301|\n",
      "| 27042|    148|   3.0| 831639909| 2.8193898|\n",
      "| 24407|    148|   4.0| 998799394|  2.771439|\n",
      "+------+-------+------+----------+----------+\n",
      "only showing top 5 rows\n",
      "\n"
     ]
    }
   ],
   "source": [
    "predictions.show(5)"
   ]
  },
  {
   "cell_type": "code",
   "execution_count": 62,
   "metadata": {},
   "outputs": [
    {
     "name": "stdout",
     "output_type": "stream",
     "text": [
      "+-------+------------------+------------------+------------------+--------------------+----------+\n",
      "|summary|            userId|           movieId|            rating|           timestamp|prediction|\n",
      "+-------+------------------+------------------+------------------+--------------------+----------+\n",
      "|  count|           2999463|           2999463|           2999463|             2999463|   2999463|\n",
      "|   mean| 35886.23962956036|4125.3596873840415| 3.512418056165387|1.0326756724195204E9|       NaN|\n",
      "| stddev|20581.840605106532| 8949.521545343912|1.0606260603252557|1.1594009282944754E8|       NaN|\n",
      "|    min|                 1|                 1|               0.5|           789652009|-5.5549273|\n",
      "|    max|             71567|             65133|               5.0|          1231131137|       NaN|\n",
      "+-------+------------------+------------------+------------------+--------------------+----------+\n",
      "\n"
     ]
    }
   ],
   "source": [
    "predictions.describe().show()"
   ]
  },
  {
   "cell_type": "code",
   "execution_count": 63,
   "metadata": {},
   "outputs": [],
   "source": [
    "predictions = predictions.dropna(subset=['prediction'])"
   ]
  },
  {
   "cell_type": "code",
   "execution_count": 64,
   "metadata": {},
   "outputs": [
    {
     "name": "stdout",
     "output_type": "stream",
     "text": [
      "Root-mean-square error = 0.8301464608086143\n"
     ]
    }
   ],
   "source": [
    "evaluator = RegressionEvaluator(metricName='rmse', labelCol='rating', predictionCol='prediction')\n",
    "rmse = evaluator.evaluate(predictions)\n",
    "\n",
    "# With the ml-latest-small dataset, rmse was about 1.1, but for the ml-1m dataset, rmse is around 0.9, an improvement, and rmse for ml-10m is 0.83, yet another minor improvement.\n",
    "print('Root-mean-square error = ' + str(rmse))"
   ]
  },
  {
   "cell_type": "code",
   "execution_count": 66,
   "metadata": {},
   "outputs": [
    {
     "name": "stdout",
     "output_type": "stream",
     "text": [
      "+-------+------+------+----------+\n",
      "|movieId|userId|rating|prediction|\n",
      "+-------+------+------+----------+\n",
      "|   2997| 24254|   5.0|  4.537716|\n",
      "|    541| 24254|   3.0| 4.4854784|\n",
      "|   1251| 24254|   3.0| 4.4721036|\n",
      "|   5893| 24254|   5.0| 4.3591785|\n",
      "|   6001| 24254|   4.0| 4.3497186|\n",
      "|   2599| 24254|   5.0| 4.3256216|\n",
      "|   4973| 24254|   3.0| 4.3173676|\n",
      "|   1244| 24254|   5.0|  4.300537|\n",
      "|   2289| 24254|   5.0|  4.288149|\n",
      "|   3019| 24254|   4.0| 4.2383404|\n",
      "|   4378| 24254|   3.0| 4.2343783|\n",
      "|   2064| 24254|   5.0|  4.231061|\n",
      "|   1095| 24254|   5.0|  4.206632|\n",
      "|   2020| 24254|   5.0| 4.1950746|\n",
      "|    800| 24254|   5.0| 4.1841664|\n",
      "|   2973| 24254|   5.0|    4.1702|\n",
      "|   2300| 24254|   5.0| 4.1480427|\n",
      "|   5617| 24254|   4.0| 4.1236672|\n",
      "|   1635| 24254|   5.0|  4.122512|\n",
      "|   5902| 24254|   4.0| 4.1212077|\n",
      "+-------+------+------+----------+\n",
      "only showing top 20 rows\n",
      "\n"
     ]
    }
   ],
   "source": [
    "# Serve recommendations for a specific user.  This would normally be done on movies they haven't seen, but rather than generate that list here it's simply done on the test set.\n",
    "userId = 24254\n",
    "single_user = test.filter(test['userId']==userId).select(['movieId','userId','rating'])\n",
    "\n",
    "recommendations = model_fit.transform(single_user)\n",
    "recommendations.orderBy('prediction', ascending=False).show()"
   ]
  }
 ],
 "metadata": {
  "kernelspec": {
   "display_name": "Python 3",
   "language": "python",
   "name": "python3"
  },
  "language_info": {
   "codemirror_mode": {
    "name": "ipython",
    "version": 3
   },
   "file_extension": ".py",
   "mimetype": "text/x-python",
   "name": "python",
   "nbconvert_exporter": "python",
   "pygments_lexer": "ipython3",
   "version": "3.7.2"
  }
 },
 "nbformat": 4,
 "nbformat_minor": 2
}
